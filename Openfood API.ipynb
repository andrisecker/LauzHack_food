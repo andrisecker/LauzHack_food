{
 "cells": [
  {
   "cell_type": "markdown",
   "metadata": {},
   "source": [
    "### List of all products "
   ]
  },
  {
   "cell_type": "code",
   "execution_count": 16,
   "metadata": {
    "collapsed": false
   },
   "outputs": [],
   "source": [
    "#!/usr/bin/python\n",
    "# -*- coding: utf-8 -*-\n",
    "\n",
    "import json\n",
    "import pandas as pd\n",
    "import pprint\n",
    "pp = pprint.PrettyPrinter(indent=4)"
   ]
  },
  {
   "cell_type": "code",
   "execution_count": 17,
   "metadata": {
    "collapsed": false
   },
   "outputs": [
    {
     "name": "stdout",
     "output_type": "stream",
     "text": [
      "Status: 200\n",
      "Page loaded successfully.\n",
      "Generated in 191 milliseconds.\n",
      "Next page's URL is: https://www.openfood.ch/api/v3/products?page%5Bnumber%5D=2&page%5Bsize%5D=200\n",
      "Barcodes on this page:\n",
      "[1000, 10000, 10001, 10002, 10003, 10004, 10005, 10006, 10007, 10008, 10009, 1001, 10010, 10011, 10012, 10013, 10014, 10015, 10016, 10017, 10018, 10019, 1002, 10020, 10021, 10022, 10023, 10024, 10025, 10026, 10027, 10028, 10029, 1003, 10030, 10031, 10032, 10033, 10034, 10035, 10036, 10037, 10038, 10039, 1004, 10040, 10041, 10042, 10043, 10044, 10045, 10046, 10047, 10048, 10049, 1005, 10050, 10051, 10052, 10053, 10054, 10055, 10056, 10057, 10058, 10059, 10060, 10061, 10062, 10063, 10064, 10065, 10066, 10067, 10068, 10069, 10070, 10071, 10072, 10073, 10074, 10075, 10076, 10077, 10078, 10079, 10080, 10081, 10082, 10083, 10084, 10085, 10086, 10087, 10088, 10089, 10090, 10091, 10092, 10093, 10094, 10095, 10096, 10097, 10098, 10099, 1010, 10100, 10101, 10102, 10103, 10104, 10105, 10106, 10107, 10108, 10109, 1011, 10110, 10111, 10112, 10113, 10114, 10115, 10117, 10118, 10119, 1012, 10120, 10121, 10122, 10123, 10124, 10125, 10126, 10127, 10128, 10129, 1013, 10130, 10131, 10132, 10133, 10134, 10135, 10136, 10137, 10138, 10139, 1014, 10140, 10141, 10142, 10143, 10144, 10145, 10146, 10147, 10148, 10149, 1015, 10150, 10151, 10152, 10153, 10154, 10155, 10156, 10157, 10158, 10159, 1016, 10160, 10161, 10162, 10163, 10164, 10165, 10166, 10167, 10168, 10169, 1017, 10170, 10171, 10172, 10173, 10174, 10175, 10176, 10177, 10178, 10179, 1018, 10180, 10181, 10182, 10183, 10184, 10185]\n"
     ]
    }
   ],
   "source": [
    "import requests\n",
    "\n",
    "BASE_URL='https://www.openfood.ch/api/v3'\n",
    "KEY='97bb347d26f3a8b39b4558827c3fcf56'\n",
    "ENDPOINT='/products'\n",
    "\n",
    "\n",
    "'''\n",
    "url = BASE_URL + ENDPOINT\n",
    "\n",
    "headers = {\n",
    "  'Authorization': 'Token token=' + KEY,\n",
    "  'Accept': 'application/json',\n",
    "  'Content-Type': 'application/vnd.api+json',\n",
    "  'Accept-Encoding': 'gzip,deflate'\n",
    "}\n",
    "productlist = []\n",
    "listlength = 0\n",
    "i = 0\n",
    "for i in range(0, 20):\n",
    "    query = {\n",
    "        'page[number]': i,\n",
    "        'page[size]': 200  # maximum\n",
    "    }\n",
    "    r = requests.get(url, params=query, headers=headers)\n",
    "    if r.status_code == 200:\n",
    "        print('Page ' + str(i) + ' loaded successfully.')\n",
    "\n",
    "        for product in r.json()['data']:\n",
    "            try:\n",
    "                productlist.append(product['id'])\n",
    "            except:\n",
    "                pass\n",
    "\n",
    "    if listlength == len(productlist):\n",
    "        break\n",
    "    #print('Product count: ' + str(len(productlist)))\n",
    "    listlength = len(productlist)\n",
    "    i += 1\n",
    "    \n",
    "'''\n",
    "url = BASE_URL + ENDPOINT\n",
    "\n",
    "query = {\n",
    "  'page[number]': 1,\n",
    "  'page[size]': 200\n",
    "}\n",
    "\n",
    "headers = {\n",
    "  'Authorization': 'Token token=' + KEY,\n",
    "  'Accept': 'application/json',\n",
    "  'Content-Type': 'application/vnd.api+json',\n",
    "  'Accept-Encoding': 'gzip,deflate'\n",
    "}\n",
    "\n",
    "r = requests.get(url, params=query, headers=headers)\n",
    "print(\"Status: \" + str(r.status_code))\n",
    "if r.status_code == 200:\n",
    "    print('Page loaded successfully.')\n",
    "    print('Generated in ' + str(r.json().get('meta', {}).get('generated_in', -1)) + ' milliseconds.')\n",
    "    print('Next page\\'s URL is: ' + r.json()['links'].get('next', 'UNKNOWN'))\n",
    "    print('Barcodes on this page:')\n",
    "    for product in r.json()['data']:\n",
    "        productlist = []\n",
    "        for x in r.json()['data']:\n",
    "            productlist.append(x['id'])\n",
    "print(productlist)\n",
    "#'''"
   ]
  },
  {
   "cell_type": "markdown",
   "metadata": {
    "collapsed": true
   },
   "source": [
    "### Getting list of useful characteristics from id"
   ]
  },
  {
   "cell_type": "code",
   "execution_count": 18,
   "metadata": {
    "collapsed": false
   },
   "outputs": [
    {
     "name": "stdout",
     "output_type": "stream",
     "text": [
      "CPU times: user 10.2 s, sys: 392 ms, total: 10.6 s\n",
      "Wall time: 46.3 s\n"
     ]
    }
   ],
   "source": [
    "%%time\n",
    "BASE_URL='https://www.openfood.ch/api/v3'\n",
    "KEY='97bb347d26f3a8b39b4558827c3fcf56'\n",
    "dInfo = {}\n",
    "dIngredients = {}\n",
    "dNutrients = {}\n",
    "\n",
    "for PRODUCT_ID in productlist:\n",
    "    ENDPOINT='/products/{}'.format(PRODUCT_ID)\n",
    "\n",
    "    url = BASE_URL + ENDPOINT\n",
    "\n",
    "    headers = {\n",
    "      'Authorization': 'Token token=' + KEY,\n",
    "      'Accept': 'application/json',\n",
    "      'Content-Type': 'application/vnd.api+json',\n",
    "      'Accept-Encoding': 'gzip,deflate'\n",
    "    }\n",
    "\n",
    "    r = requests.get(url, headers=headers)\n",
    "    #print ('Status: ' + str(r.status_code))\n",
    "    item = {}\n",
    "    item_ing = {}\n",
    "    item_nut = {}\n",
    "    data = r.json()['data']\n",
    "    if r.status_code == 200:\n",
    "        try:\n",
    "            item['name'] = item_ing['name'] = item_nut['name'] = data['display_name_translations']['fr']\n",
    "            item['id'] = item_ing['id'] = item_nut['id'] = data['id']\n",
    "            #item['barcode'] = item_ing['barcode'] = item_nut['barcode'] = data['barcode']\n",
    "            \n",
    "            item['quantity'] = data['quantity']\n",
    "            item['unit'] = data['unit']\n",
    "            item['portion'] = data['portion_quantity']\n",
    "            item['portion unit'] = data['portion_unit']\n",
    "            item['alcohol'] = data['alcohol_by_volume']\n",
    "            \n",
    "            item_ing['ingredients'] = data['ingredients_translations']['fr']\n",
    "            \n",
    "            nuts = {}\n",
    "            for nut in data['nutrients'].keys():\n",
    "                nuts[nut] = {'per_day':data['nutrients'][nut]['per_day'],\n",
    "                             'per_hundred':data['nutrients'][nut]['per_hundred'],\n",
    "                             'per_portion':data['nutrients'][nut]['per_portion']}\n",
    "            item_nut['nutrients'] = nuts\n",
    "            \n",
    "            dInfo[data['barcode']] = item    \n",
    "            dIngredients[data['barcode']] = item_ing\n",
    "            dNutrients[data['barcode']] = item_nut\n",
    "        except:\n",
    "            pass"
   ]
  },
  {
   "cell_type": "markdown",
   "metadata": {},
   "source": [
    "### Translate ingredients"
   ]
  },
  {
   "cell_type": "code",
   "execution_count": null,
   "metadata": {
    "collapsed": false
   },
   "outputs": [
    {
     "name": "stdout",
     "output_type": "stream",
     "text": [
      "50 done!\n",
      "100 done!\n",
      "150 done!\n"
     ]
    }
   ],
   "source": [
    "%%time\n",
    "from watson_developer_cloud import LanguageTranslatorV2 as LanguageTranslator\n",
    "\n",
    "language_translator = LanguageTranslator(username='a69f77dc-9248-4069-85b5-1ac1ef6bfd7d',password='UQznP8xcKtuq')\n",
    "\n",
    "count = 0\n",
    "remove = []\n",
    "for barcode, tmp in dIngredients.items():\n",
    "    try:        \n",
    "        ingredients_ = ' '.join(tmp['ingredients'][1].splitlines())\n",
    "        language_json = language_translator.identify(ingredients_)\n",
    "        language = pd.DataFrame(language_json['languages']).sort_values(by=['confidence'], ascending=False)\n",
    "        source_lang = language.iloc[0, 1]\n",
    "        if source_lang != \"en\":\n",
    "            translation = language_translator.translate(text=ingredients_, source=source_lang, target='en')\n",
    "            dIngredients[barcode]['ingredients'] = \"en_translated, \" + json.dumps(translation, indent=2, ensure_ascii=False)\n",
    "        else:\n",
    "            dIngredients[barcode]['ingredients'] = \"en_kept, \" + ingredients_       \n",
    "        name_ = ' '.join(tmp['name'][1].splitlines())\n",
    "        language_json = language_translator.identify(name_)\n",
    "        language = pd.DataFrame(language_json['languages']).sort_values(by=['confidence'], ascending=False)\n",
    "        source_lang = language.iloc[0, 1]\n",
    "        if source_lang != \"en\":\n",
    "            translation = language_translator.translate(text=ingredients_, source=source_lang, target='en')\n",
    "            dInfo[barcode]['name'] = \"en_translated, \" + json.dumps(translation, indent=2, ensure_ascii=False)\n",
    "            dIngredients[barcode]['name'] = \"en_translated, \" + json.dumps(translation, indent=2, ensure_ascii=False)\n",
    "            dNutrients[barcode]['name'] = \"en_translated, \" + json.dumps(translation, indent=2, ensure_ascii=False)\n",
    "        else:\n",
    "            dInfo[barcode]['name'] = \"en_kept, \" + name_\n",
    "            dIngredients[barcode]['name'] = \"en_kept, \" + name_\n",
    "            dNutrients[barcode]['name'] = \"en_kept, \" + name_\n",
    "                        \n",
    "    except:\n",
    "        remove.append(barcode)\n",
    "        \n",
    "    count += 1\n",
    "    if count % 50 == 0:\n",
    "        print(\"%s/%s items done!\"%(count, len(dIngredients)))\n",
    "\n",
    "# remove the ones (from everywhere) which couldn't be translated\n",
    "for barcode in remove:\n",
    "    del dInfo[barcode]\n",
    "    del dIngredients[barcode]\n",
    "    del dNutrients[barcode]"
   ]
  },
  {
   "cell_type": "code",
   "execution_count": null,
   "metadata": {
    "collapsed": true
   },
   "outputs": [],
   "source": [
    "# dump dictionaries to json files (load it in with `json.load(fName)`)\n",
    "\n",
    "with open(\"dInfo.json\", \"w\") as f_:\n",
    "    json.dump(dInfo, f_)\n",
    "with open(\"dIngredients.json\", \"w\") as f_:\n",
    "    json.dump(dIngredients, f_)\n",
    "with open(\"dNutrients.json\", \"w\") as f_:\n",
    "    json.dump(dNutrients, f_)"
   ]
  }
 ],
 "metadata": {
  "kernelspec": {
   "display_name": "Python 3",
   "language": "python",
   "name": "python3"
  },
  "language_info": {
   "codemirror_mode": {
    "name": "ipython",
    "version": 3
   },
   "file_extension": ".py",
   "mimetype": "text/x-python",
   "name": "python",
   "nbconvert_exporter": "python",
   "pygments_lexer": "ipython3",
   "version": "3.5.2"
  }
 },
 "nbformat": 4,
 "nbformat_minor": 2
}

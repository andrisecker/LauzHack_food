{
 "cells": [
  {
   "cell_type": "markdown",
   "metadata": {},
   "source": [
    "### List of all products "
   ]
  },
  {
   "cell_type": "code",
   "execution_count": null,
   "metadata": {
    "collapsed": true
   },
   "outputs": [],
   "source": [
    "#!/usr/bin/python\n",
    "# -*- coding: utf-8 -*-\n",
    "\n",
    "import json\n",
    "import pandas as pd\n",
    "import pprint\n",
    "pp = pprint.PrettyPrinter(indent=4)"
   ]
  },
  {
   "cell_type": "code",
   "execution_count": null,
   "metadata": {
    "collapsed": false
   },
   "outputs": [],
   "source": [
    "import requests\n",
    "\n",
    "BASE_URL='https://www.openfood.ch/api/v3'\n",
    "KEY='97bb347d26f3a8b39b4558827c3fcf56'\n",
    "ENDPOINT='/products'\n",
    "\n",
    "\n",
    "\n",
    "url = BASE_URL + ENDPOINT\n",
    "\n",
    "headers = {\n",
    "  'Authorization': 'Token token=' + KEY,\n",
    "  'Accept': 'application/json',\n",
    "  'Content-Type': 'application/vnd.api+json',\n",
    "  'Accept-Encoding': 'gzip,deflate'\n",
    "}\n",
    "productlist = []\n",
    "listlength = 0\n",
    "i = 0\n",
    "for i in range(0, 10):\n",
    "    query = {\n",
    "        'page[number]': i,\n",
    "        'page[size]': 200  # maximum\n",
    "    }\n",
    "    r = requests.get(url, params=query, headers=headers)\n",
    "    if r.status_code == 200:\n",
    "        print('Page ' + str(i) + ' loaded successfully.')\n",
    "\n",
    "        for product in r.json()['data']:\n",
    "            try:\n",
    "                productlist.append(product['id'])\n",
    "            except:\n",
    "                pass\n",
    "\n",
    "    if listlength == len(productlist):\n",
    "        break\n",
    "    #print('Product count: ' + str(len(productlist)))\n",
    "    listlength = len(productlist)\n",
    "    i += 1\n",
    "    \n",
    "'''\n",
    "url = BASE_URL + ENDPOINT\n",
    "\n",
    "query = {\n",
    "  'page[number]': 1,\n",
    "  'page[size]': 200\n",
    "}\n",
    "\n",
    "headers = {\n",
    "  'Authorization': 'Token token=' + KEY,\n",
    "  'Accept': 'application/json',\n",
    "  'Content-Type': 'application/vnd.api+json',\n",
    "  'Accept-Encoding': 'gzip,deflate'\n",
    "}\n",
    "\n",
    "r = requests.get(url, params=query, headers=headers)\n",
    "print(\"Status: \" + str(r.status_code))\n",
    "if r.status_code == 200:\n",
    "    print('Page loaded successfully.')\n",
    "    print('Generated in ' + str(r.json().get('meta', {}).get('generated_in', -1)) + ' milliseconds.')\n",
    "    print('Next page\\'s URL is: ' + r.json()['links'].get('next', 'UNKNOWN'))\n",
    "    print('Barcodes on this page:')\n",
    "    for product in r.json()['data']:\n",
    "        productlist = []\n",
    "        for x in r.json()['data']:\n",
    "            productlist.append(x['id'])\n",
    "print(productlist)\n",
    "'''"
   ]
  },
  {
   "cell_type": "markdown",
   "metadata": {
    "collapsed": true
   },
   "source": [
    "### Getting list of useful characteristics from id"
   ]
  },
  {
   "cell_type": "code",
   "execution_count": null,
   "metadata": {
    "collapsed": false
   },
   "outputs": [],
   "source": [
    "%%time\n",
    "BASE_URL='https://www.openfood.ch/api/v3'\n",
    "KEY='97bb347d26f3a8b39b4558827c3fcf56'\n",
    "dInfo = {}\n",
    "dIngredients = {}\n",
    "dNutrients = {}\n",
    "\n",
    "for PRODUCT_ID in productlist:\n",
    "    ENDPOINT='/products/{}'.format(PRODUCT_ID)\n",
    "\n",
    "    url = BASE_URL + ENDPOINT\n",
    "\n",
    "    headers = {\n",
    "      'Authorization': 'Token token=' + KEY,\n",
    "      'Accept': 'application/json',\n",
    "      'Content-Type': 'application/vnd.api+json',\n",
    "      'Accept-Encoding': 'gzip,deflate'\n",
    "    }\n",
    "\n",
    "    r = requests.get(url, headers=headers)\n",
    "    #print ('Status: ' + str(r.status_code))\n",
    "    item = {}\n",
    "    item_ing = {}\n",
    "    item_nut = {}\n",
    "    data = r.json()['data']\n",
    "    if r.status_code == 200:\n",
    "        try:\n",
    "            item['name'] = item_ing['name'] = item_nut['name'] = data['display_name_translations'].popitem()\n",
    "            item['id'] = item_ing['id'] = item_nut['id'] = data['id']\n",
    "            #item['barcode'] = item_ing['barcode'] = item_nut['barcode'] = data['barcode']\n",
    "            \n",
    "            item['quantity'] = data['quantity']\n",
    "            item['unit'] = data['unit']\n",
    "            item['portion'] = data['portion_quantity']\n",
    "            item['portion unit'] = data['portion_unit']\n",
    "            item['alcohol'] = data['alcohol_by_volume']\n",
    "            \n",
    "            item_ing['ingredients'] = data['ingredients_translations'].popitem()\n",
    "            \n",
    "            nuts = {}\n",
    "            for nut in data['nutrients'].keys():\n",
    "                nuts[nut] = {'per_day':data['nutrients'][nut]['per_day'],\n",
    "                             'per_hundred':data['nutrients'][nut]['per_hundred'],\n",
    "                             'per_portion':data['nutrients'][nut]['per_portion']}\n",
    "            item_nut['nutrients'] = nuts\n",
    "            \n",
    "            dInfo[data['barcode']] = item    \n",
    "            dIngredients[data['barcode']] = item_ing\n",
    "            dNutrients[data['barcode']] = item_nut\n",
    "        except:\n",
    "            pass"
   ]
  },
  {
   "cell_type": "markdown",
   "metadata": {},
   "source": [
    "### Translate ingredients"
   ]
  },
  {
   "cell_type": "code",
   "execution_count": null,
   "metadata": {
    "collapsed": false
   },
   "outputs": [],
   "source": [
    "%%time\n",
    "from watson_developer_cloud import LanguageTranslatorV2 as LanguageTranslator\n",
    "\n",
    "language_translator = LanguageTranslator(username='a69f77dc-9248-4069-85b5-1ac1ef6bfd7d',password='UQznP8xcKtuq')\n",
    "\n",
    "count = 0\n",
    "print(\"%s/%s items done...\"%(count, len(dIngredients)))\n",
    "remove = []\n",
    "for barcode, tmp in dIngredients.items():\n",
    "    try:        \n",
    "        ingredients_ = ' '.join(tmp['ingredients'][1].splitlines())\n",
    "        language_json = language_translator.identify(ingredients_)\n",
    "        language = pd.DataFrame(language_json['languages']).sort_values(by=['confidence'], ascending=False)\n",
    "        source_lang = language.iloc[0, 1]\n",
    "        if source_lang != \"en\":\n",
    "            translation = language_translator.translate(text=ingredients_, source=source_lang, target='en')\n",
    "            dIngredients[barcode]['ingredients'] = \"en_translated, \" + json.dumps(translation, indent=2, ensure_ascii=False)\n",
    "        else:\n",
    "            dIngredients[barcode]['ingredients'] = \"en_kept, \" + ingredients_ \n",
    "                        \n",
    "    except:\n",
    "        #print(source_lang, ingredients_)\n",
    "        remove.append(barcode)\n",
    "        \n",
    "    count += 1\n",
    "    if count % 50 == 0:\n",
    "        print(\"%s/%s items done!\"%(count, len(dIngredients)))\n",
    "\n",
    "# remove the ones (from everywhere) which couldn't be translated\n",
    "for barcode in remove:\n",
    "    del dInfo[barcode]\n",
    "    del dIngredients[barcode]\n",
    "    del dNutrients[barcode]"
   ]
  },
  {
   "cell_type": "code",
   "execution_count": null,
   "metadata": {
    "collapsed": true
   },
   "outputs": [],
   "source": [
    "# dump dictionaries to json files (load it in with `json.load(fName)`)\n",
    "\n",
    "with open(\"dInfo.json\", \"w\") as f_:\n",
    "    json.dump(dInfo, f_)\n",
    "with open(\"dIngredients.json\", \"w\") as f_:\n",
    "    json.dump(dIngredients, f_)\n",
    "with open(\"dNutrients.json\", \"w\") as f_:\n",
    "    json.dump(dNutrients, f_)"
   ]
  },
  {
   "cell_type": "markdown",
   "metadata": {},
   "source": [
    "### Calculate climate impact!"
   ]
  },
  {
   "cell_type": "code",
   "execution_count": 9,
   "metadata": {
    "collapsed": true
   },
   "outputs": [],
   "source": [
    "import json\n",
    "\n",
    "with open(\"dInfo.json\", \"r\") as f_:\n",
    "    dInfo = json.load(f_)\n",
    "with open(\"dIngredients.json\", \"r\") as f_:\n",
    "    dIngredients = json.load(f_)\n",
    "with open(\"dNutrients.json\", \"r\") as f_:\n",
    "    dNutrients = json.load(f_)"
   ]
  },
  {
   "cell_type": "code",
   "execution_count": 10,
   "metadata": {
    "collapsed": false
   },
   "outputs": [],
   "source": [
    "from food_db import build_database\n",
    "ingredients_to_impact = build_database()"
   ]
  },
  {
   "cell_type": "code",
   "execution_count": 11,
   "metadata": {
    "collapsed": false
   },
   "outputs": [],
   "source": [
    "import re\n",
    "ingredient_dict = {}\n",
    "\n",
    "for item in list(dIngredients.items()):\n",
    "    lItems = item[1]['ingredients'].split(',')[1:]\n",
    "    quantity_dict = {}\n",
    "    estimate = 50\n",
    "    for l in lItems:\n",
    "        percentage = re.findall(r'\\d+%', l)\n",
    "        if(len(percentage) == 0):\n",
    "            quantity_dict[l] = estimate\n",
    "        else:\n",
    "            quantity_dict[l] = percentage[0].rstrip('%')  # TODO: handle second instance...\n",
    "        estimate = estimate/2\n",
    "    ingredient_dict[item[0]] = quantity_dict"
   ]
  },
  {
   "cell_type": "code",
   "execution_count": 12,
   "metadata": {
    "collapsed": false
   },
   "outputs": [],
   "source": [
    "final_dict = {}\n",
    "for bar_code in list(ingredient_dict):\n",
    "    temp_dict = {}\n",
    "    temp_dict['ingredients'] = ingredient_dict[bar_code]\n",
    "    temp_dict['quantity'] = dInfo[bar_code]['quantity']\n",
    "    temp_dict['unit'] = dInfo[bar_code]['unit']\n",
    "    final_dict[bar_code] = temp_dict\n",
    "    "
   ]
  },
  {
   "cell_type": "code",
   "execution_count": 13,
   "metadata": {
    "collapsed": false
   },
   "outputs": [
    {
     "name": "stdout",
     "output_type": "stream",
     "text": [
      "CPU times: user 9.86 s, sys: 0 ns, total: 9.86 s\n",
      "Wall time: 9.87 s\n"
     ]
    }
   ],
   "source": [
    "%%time\n",
    "import difflib\n",
    "\n",
    "footprint_dict = {}\n",
    "for bar_code, item in final_dict.items():\n",
    "    footprint = 0\n",
    "    ingredients = item['ingredients']\n",
    "    quantity = float(item['quantity'])\n",
    "    for ing_key, ing_quantity in ingredients.items():\n",
    "        #print(ing_key)\n",
    "        scores = []\n",
    "        keys = []\n",
    "        for key, value in ingredients_to_impact.items():\n",
    "            keys.append(key)\n",
    "            scores.append(difflib.SequenceMatcher(None, ing_key, key).ratio())\n",
    "            \n",
    "        matched_score = ingredients_to_impact[keys[scores.index(max(scores))]]\n",
    "        #print(quantity, ing_quantity, matched_score)\n",
    "        footprint += float(quantity) * float(ing_quantity)*0.01 * float(matched_score)/1000.\n",
    "    footprint_dict[bar_code] = footprint"
   ]
  },
  {
   "cell_type": "code",
   "execution_count": 7,
   "metadata": {
    "collapsed": true
   },
   "outputs": [],
   "source": [
    "with open(\"barcode_to_impact.json\", \"w\") as f_:\n",
    "    json.dump(footprint_dict, f_)"
   ]
  },
  {
   "cell_type": "code",
   "execution_count": 8,
   "metadata": {
    "collapsed": false
   },
   "outputs": [],
   "source": [
    "with open(\"barcode_to_impact.csv\", \"w\") as f_:\n",
    "    for barcode, footprint in footprint_dict.items():\n",
    "        f_.write(\"%s;+%.3f\\n\"%(barcode, footprint))"
   ]
  }
 ],
 "metadata": {
  "kernelspec": {
   "display_name": "Python 3",
   "language": "python",
   "name": "python3"
  },
  "language_info": {
   "codemirror_mode": {
    "name": "ipython",
    "version": 3
   },
   "file_extension": ".py",
   "mimetype": "text/x-python",
   "name": "python",
   "nbconvert_exporter": "python",
   "pygments_lexer": "ipython3",
   "version": "3.5.2"
  }
 },
 "nbformat": 4,
 "nbformat_minor": 2
}

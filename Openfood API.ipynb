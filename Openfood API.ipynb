{
 "cells": [
  {
   "cell_type": "markdown",
   "metadata": {},
   "source": [
    "### List of all products "
   ]
  },
  {
   "cell_type": "code",
   "execution_count": 63,
   "metadata": {
    "collapsed": true
   },
   "outputs": [],
   "source": [
    "import pandas as pd"
   ]
  },
  {
   "cell_type": "code",
   "execution_count": 64,
   "metadata": {},
   "outputs": [
    {
     "name": "stdout",
     "output_type": "stream",
     "text": [
      "Status: 200\n",
      "Page loaded successfully.\n",
      "Generated in 151 milliseconds.\n",
      "Next page's URL is: https://www.openfood.ch/api/v3/products?page%5Bnumber%5D=2&page%5Bsize%5D=200\n",
      "Barcodes on this page:\n",
      "[1000, 10000, 10001, 10002, 10003, 10004, 10005, 10006, 10007, 10008, 10009, 1001, 10010, 10011, 10012, 10013, 10014, 10015, 10016, 10017, 10018, 10019, 1002, 10020, 10021, 10022, 10023, 10024, 10025, 10026, 10027, 10028, 10029, 1003, 10030, 10031, 10032, 10033, 10034, 10035, 10036, 10037, 10038, 10039, 1004, 10040, 10041, 10042, 10043, 10044, 10045, 10046, 10047, 10048, 10049, 1005, 10050, 10051, 10052, 10053, 10054, 10055, 10056, 10057, 10058, 10059, 10060, 10061, 10062, 10063, 10064, 10065, 10066, 10067, 10068, 10069, 10070, 10071, 10072, 10073, 10074, 10075, 10076, 10077, 10078, 10079, 10080, 10081, 10082, 10083, 10084, 10085, 10086, 10087, 10088, 10089, 10090, 10091, 10092, 10093, 10094, 10095, 10096, 10097, 10098, 10099, 1010, 10100, 10101, 10102, 10103, 10104, 10105, 10106, 10107, 10108, 10109, 1011, 10110, 10111, 10112, 10113, 10114, 10115, 10117, 10118, 10119, 1012, 10120, 10121, 10122, 10123, 10124, 10125, 10126, 10127, 10128, 10129, 1013, 10130, 10131, 10132, 10133, 10134, 10135, 10136, 10137, 10138, 10139, 1014, 10140, 10141, 10142, 10143, 10144, 10145, 10146, 10147, 10148, 10149, 1015, 10150, 10151, 10152, 10153, 10154, 10155, 10156, 10157, 10158, 10159, 1016, 10160, 10161, 10162, 10163, 10164, 10165, 10166, 10167, 10168, 10169, 1017, 10170, 10171, 10172, 10173, 10174, 10175, 10176, 10177, 10178, 10179, 1018, 10180, 10181, 10182, 10183, 10184, 10185]\n"
     ]
    }
   ],
   "source": [
    "import requests\n",
    "\n",
    "BASE_URL='https://www.openfood.ch/api/v3'\n",
    "KEY='97bb347d26f3a8b39b4558827c3fcf56'\n",
    "ENDPOINT='/products'\n",
    "\n",
    "\n",
    "'''\n",
    "url = BASE_URL + ENDPOINT\n",
    "\n",
    "headers = {\n",
    "  'Authorization': 'Token token=' + KEY,\n",
    "  'Accept': 'application/json',\n",
    "  'Content-Type': 'application/vnd.api+json',\n",
    "  'Accept-Encoding': 'gzip,deflate'\n",
    "}\n",
    "productlist = []\n",
    "listlength = 0\n",
    "i = 0\n",
    "while True:\n",
    "    query = {\n",
    "        'page[number]': i,\n",
    "        'page[size]': 200  # maximum\n",
    "    }\n",
    "    r = requests.get(url, params=query, headers=headers)\n",
    "    if r.status_code == 200:\n",
    "      print('Page ' + str(i) + ' loaded successfully.')\n",
    "\n",
    "      for product in r.json()['data']:\n",
    "        productlist.append(product)\n",
    "        #print('  ' + product['barcode'])\n",
    "\n",
    "    if listlength == len(productlist):\n",
    "        break\n",
    "    print('Product count: ' + str(len(productlist)))\n",
    "    listlength = len(productlist)\n",
    "    i += 1\n",
    "'''\n",
    "\n",
    "url = BASE_URL + ENDPOINT\n",
    "\n",
    "query = {\n",
    "  'page[number]': 1,\n",
    "  'page[size]': 200\n",
    "}\n",
    "\n",
    "headers = {\n",
    "  'Authorization': 'Token token=' + KEY,\n",
    "  'Accept': 'application/json',\n",
    "  'Content-Type': 'application/vnd.api+json',\n",
    "  'Accept-Encoding': 'gzip,deflate'\n",
    "}\n",
    "\n",
    "r = requests.get(url, params=query, headers=headers)\n",
    "print(\"Status: \" + str(r.status_code))\n",
    "if r.status_code == 200:\n",
    "  print('Page loaded successfully.')\n",
    "  print('Generated in ' + str(r.json().get('meta', {}).get('generated_in', -1)) + ' milliseconds.')\n",
    "  print('Next page\\'s URL is: ' + r.json()['links'].get('next', 'UNKNOWN'))\n",
    "  print('Barcodes on this page:')\n",
    "  for product in r.json()['data']:\n",
    "    productlist = []\n",
    "    for x in r.json()['data']:\n",
    "      productlist.append(x['id'])\n",
    "    #print('  ' + product['barcode'])\n",
    "print(productlist)"
   ]
  },
  {
   "cell_type": "markdown",
   "metadata": {
    "collapsed": true
   },
   "source": [
    "### Getting list of useful characteristics from id"
   ]
  },
  {
   "cell_type": "code",
   "execution_count": 65,
   "metadata": {},
   "outputs": [
    {
     "name": "stdout",
     "output_type": "stream",
     "text": [
      "CPU times: user 3.79 s, sys: 283 ms, total: 4.08 s\n",
      "Wall time: 41.9 s\n"
     ]
    }
   ],
   "source": [
    "%%time\n",
    "BASE_URL='https://www.openfood.ch/api/v3'\n",
    "KEY='97bb347d26f3a8b39b4558827c3fcf56'\n",
    "info = []\n",
    "ingredients = []\n",
    "nutrients = []\n",
    "\n",
    "for PRODUCT_ID in productlist:\n",
    "    ENDPOINT='/products/{}'.format(PRODUCT_ID)\n",
    "\n",
    "    url = BASE_URL + ENDPOINT\n",
    "\n",
    "    headers = {\n",
    "      'Authorization': 'Token token=' + KEY,\n",
    "      'Accept': 'application/json',\n",
    "      'Content-Type': 'application/vnd.api+json',\n",
    "      'Accept-Encoding': 'gzip,deflate'\n",
    "    }\n",
    "\n",
    "    r = requests.get(url, headers=headers)\n",
    "    #print ('Status: ' + str(r.status_code))\n",
    "    item = {}\n",
    "    item_ing = {}\n",
    "    item_nut = {}\n",
    "    data = r.json()['data']\n",
    "    if r.status_code == 200:\n",
    "        try:\n",
    "            item['name'] = item_ing['name'] = item_nut['name'] = data['display_name_translations'].popitem()\n",
    "            item['id'] = item_ing['id'] = item_nut['id'] = data['id']\n",
    "            item['barcode'] = item_ing['barcode'] = item_nut['barcode'] = data['barcode']\n",
    "            \n",
    "            item['quantity'] = data['quantity']\n",
    "            item['unit'] = data['unit']\n",
    "            item['portion'] = data['portion_quantity']\n",
    "            item['portion unit'] = data['portion_unit']\n",
    "            item['alcohol'] = data['alcohol_by_volume']\n",
    "            \n",
    "            item_ing['ingredients'] = data['ingredients_translations'].popitem()\n",
    "            \n",
    "            nuts = {}\n",
    "            for nut in data['nutrients'].keys():\n",
    "                nuts[nut] = {'per_day':data['nutrients'][nut]['per_day'],\n",
    "                             'per_hundred':data['nutrients'][nut]['per_hundred'],\n",
    "                             'per_portion':data['nutrients'][nut]['per_portion']}\n",
    "            item_nut['nutrients'] = nuts\n",
    "        except:\n",
    "            pass\n",
    "    info.append(item)\n",
    "    ingredients.append(item_ing)\n",
    "    nutrients.append(item_nut)"
   ]
  },
  {
   "cell_type": "code",
   "execution_count": 63,
   "metadata": {},
   "outputs": [
    {
     "name": "stdout",
     "output_type": "stream",
     "text": [
      "{   'alcohol': 0.0,\n",
      "    'barcode': u'3069538102461',\n",
      "    'id': 10185,\n",
      "    'name': (u'fr', u'Dea Harissa Hot Sauce from France'),\n",
      "    'portion': 0.0,\n",
      "    'portion unit': u'g',\n",
      "    'quantity': 120.0,\n",
      "    'unit': u'g'}\n",
      "{   'barcode': u'3069538102461',\n",
      "    'id': 10185,\n",
      "    'name': (u'fr', u'Dea Harissa Hot Sauce from France'),\n",
      "    'nutrients': {   u'carbohydrates': {   'per_day': None,\n",
      "                                           'per_hundred': 5.4,\n",
      "                                           'per_portion': None},\n",
      "                     u'energy': {   'per_day': None,\n",
      "                                    'per_hundred': 324.0,\n",
      "                                    'per_portion': None},\n",
      "                     u'energy_kcal': {   'per_day': None,\n",
      "                                         'per_hundred': 78.0,\n",
      "                                         'per_portion': None},\n",
      "                     u'fat': {   'per_day': None,\n",
      "                                 'per_hundred': 3.2,\n",
      "                                 'per_portion': None},\n",
      "                     u'fiber': {   'per_day': None,\n",
      "                                   'per_hundred': 7.9,\n",
      "                                   'per_portion': None},\n",
      "                     u'protein': {   'per_day': None,\n",
      "                                     'per_hundred': 3.0,\n",
      "                                     'per_portion': None},\n",
      "                     u'salt': {   'per_day': None,\n",
      "                                  'per_hundred': 2.53,\n",
      "                                  'per_portion': None},\n",
      "                     u'saturated_fat': {   'per_day': None,\n",
      "                                           'per_hundred': 0.5,\n",
      "                                           'per_portion': None},\n",
      "                     u'sugars': {   'per_day': None,\n",
      "                                    'per_hundred': 1.8,\n",
      "                                    'per_portion': None}}}\n",
      "{   'barcode': u'3069538102461',\n",
      "    'id': 10185,\n",
      "    'ingredients': (   u'fr',\n",
      "                       u'Rehydratierter Chili 52%, Wasser, modifizierte St\\xe4rke, Salz, Knoblauch, Koriander, K\\xfcmmel, S\\xe4uerungsmittel : Zitronens\\xe4ure.'),\n",
      "    'name': (u'fr', u'Dea Harissa Hot Sauce from France')}\n"
     ]
    }
   ],
   "source": [
    "import pprint\n",
    "pp = pprint.PrettyPrinter(indent=4)\n",
    "\n",
    "pp.pprint(item)\n",
    "pp.pprint(item_nut)\n",
    "pp.pprint(item_ing)"
   ]
  },
  {
   "cell_type": "code",
   "execution_count": 73,
   "metadata": {},
   "outputs": [
    {
     "data": {
      "text/plain": [
       "'asparagi bianchi (Cina), acqua, sale da cucina, antiossidante: acido citrico.'"
      ]
     },
     "execution_count": 73,
     "metadata": {},
     "output_type": "execute_result"
    }
   ],
   "source": [
    "ingredients[2]['ingredients'][1]"
   ]
  },
  {
   "cell_type": "code",
   "execution_count": 74,
   "metadata": {},
   "outputs": [
    {
     "data": {
      "text/plain": [
       "'it'"
      ]
     },
     "execution_count": 74,
     "metadata": {},
     "output_type": "execute_result"
    }
   ],
   "source": [
    "import json\n",
    "from watson_developer_cloud import LanguageTranslatorV2 as LanguageTranslator\n",
    "\n",
    "language_translator = LanguageTranslator(username='a69f77dc-9248-4069-85b5-1ac1ef6bfd7d',password='UQznP8xcKtuq')\n",
    "\n",
    "language_json = language_translator.identify(ingredients[2]['ingredients'][1])\n",
    "language = pd.DataFrame(language_json['languages']).sort_values(by=['confidence'],ascending=False)\n",
    "language.iloc[0,1]"
   ]
  },
  {
   "cell_type": "code",
   "execution_count": null,
   "metadata": {
    "collapsed": true
   },
   "outputs": [],
   "source": []
  }
 ],
 "metadata": {
  "kernelspec": {
   "display_name": "Python [default]",
   "language": "python",
   "name": "python3"
  },
  "language_info": {
   "codemirror_mode": {
    "name": "ipython",
    "version": 3
   },
   "file_extension": ".py",
   "mimetype": "text/x-python",
   "name": "python",
   "nbconvert_exporter": "python",
   "pygments_lexer": "ipython3",
   "version": "3.6.2"
  }
 },
 "nbformat": 4,
 "nbformat_minor": 2
}
